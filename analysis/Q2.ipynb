{
 "cells": [
  {
   "cell_type": "code",
   "execution_count": 95,
   "metadata": {},
   "outputs": [],
   "source": [
    "import pandas as pd\n",
    "from statsmodels.formula.api import ols\n",
    "import statsmodels.api as sm\n",
    "import matplotlib.pyplot as plt\n",
    "import seaborn as sns"
   ]
  },
  {
   "cell_type": "code",
   "execution_count": 96,
   "metadata": {},
   "outputs": [],
   "source": [
    "data = pd.read_csv('forms.csv').loc[:, 'perguntar para o entrevistador:':]"
   ]
  },
  {
   "cell_type": "code",
   "execution_count": 97,
   "metadata": {},
   "outputs": [],
   "source": [
    "data.columns = ['tipo', 'animais', 'n_cervos', 'macaco', 'urso', 'cobra', 'dia_noite', 'sol', 'trilha', 'arvore', 'casa']"
   ]
  },
  {
   "cell_type": "code",
   "execution_count": 98,
   "metadata": {},
   "outputs": [],
   "source": [
    "respostas_certas_demo = {\n",
    "    'n_cervos': '3',\n",
    "    'macaco': 'Não havia macaco no trajeto',\n",
    "    'urso': 'Dormindo',\n",
    "    'cobra': 'Não havia cobra no trajeto',\n",
    "    'dia_noite': 'Dia',\n",
    "    'sol': 'Sim',\n",
    "    'trilha': 'Terra',\n",
    "    'arvore': 'Pinheiro',\n",
    "    'casa': 'Vermelha'\n",
    "}"
   ]
  },
  {
   "cell_type": "code",
   "execution_count": 99,
   "metadata": {},
   "outputs": [],
   "source": [
    "respostas_certas_video = {\n",
    "    'n_cervos': '3',\n",
    "    'macaco': 'Não havia macaco no trajeto',\n",
    "    'urso': 'Dormindo',\n",
    "    'cobra': 'Não havia cobra no trajeto',\n",
    "    'dia_noite': 'Dia',\n",
    "    'sol': 'Não',\n",
    "    'trilha': 'Terra',\n",
    "    'arvore': 'Pinheiro',\n",
    "    'casa': 'Vermelha'\n",
    "}"
   ]
  },
  {
   "cell_type": "code",
   "execution_count": 100,
   "metadata": {},
   "outputs": [],
   "source": [
    "def encode_df(df):\n",
    "    parsed = df.copy()\n",
    "    for i in range(len(parsed)):\n",
    "        if parsed.loc[i, 'tipo'] == 'demo':\n",
    "            respostas = respostas_certas_demo\n",
    "        else:\n",
    "            respostas = respostas_certas_video  \n",
    "\n",
    "        for key, value in respostas.items():\n",
    "            if parsed.loc[i, key] == value:\n",
    "                parsed.loc[i, key] = 1\n",
    "            elif parsed.loc[i, key] == 'Não sei':\n",
    "                parsed.loc[i, key] = 0\n",
    "            else:\n",
    "                parsed.loc[i, key] = 0\n",
    "\n",
    "        if all(animal in parsed.loc[i, 'animais'] for animal in ['Cervo', 'Urso', 'Passarinho']) \\\n",
    "            and len(parsed.loc[i, 'animais'].split(',')) == 3:\n",
    "                parsed.loc[i, 'animais'] = 1\n",
    "        else:\n",
    "            parsed.loc[i, 'animais'] = 0\n",
    "    \n",
    "    for col in parsed.columns[1:]:\n",
    "        parsed[col] = pd.to_numeric(parsed[col])\n",
    "\n",
    "    respostas = [*parsed.animais, \n",
    "             *parsed.n_cervos,\n",
    "             *parsed.macaco,\n",
    "             *parsed.urso,\n",
    "             *parsed.cobra,\n",
    "             *parsed.dia_noite,\n",
    "             *parsed.sol,\n",
    "             *parsed.trilha,\n",
    "             *parsed.arvore,\n",
    "             *parsed.casa]\n",
    "    \n",
    "    return pd.DataFrame({'respostas': respostas, 'tipo': [*parsed.tipo] * 10})"
   ]
  },
  {
   "cell_type": "code",
   "execution_count": 101,
   "metadata": {},
   "outputs": [],
   "source": [
    "def encode_df_2(df):\n",
    "    parsed = df.copy()\n",
    "    for i in range(len(parsed)):\n",
    "        if parsed.loc[i, 'tipo'] == 'demo':\n",
    "            respostas = respostas_certas_demo\n",
    "        else:\n",
    "            respostas = respostas_certas_video  \n",
    "\n",
    "        for key, value in respostas.items():\n",
    "            if parsed.loc[i, key] == value:\n",
    "                parsed.loc[i, key] = 2\n",
    "            elif parsed.loc[i, key] == 'Não sei':\n",
    "                parsed.loc[i, key] = 1\n",
    "            else:\n",
    "                parsed.loc[i, key] = 0\n",
    "\n",
    "        if all(animal in parsed.loc[i, 'animais'] for animal in ['Cervo', 'Urso', 'Passarinho']) \\\n",
    "            and len(parsed.loc[i, 'animais'].split(',')) == 3:\n",
    "                parsed.loc[i, 'animais'] = 2\n",
    "        elif any(animal in parsed.loc[i, 'animais'] for animal in ['Cervo', 'Urso', 'Passarinho']):\n",
    "            parsed.loc[i, 'animais'] = 1\n",
    "        else:\n",
    "            parsed.loc[i, 'animais'] = 0\n",
    "    \n",
    "    for col in parsed.columns[1:]:\n",
    "        parsed[col] = pd.to_numeric(parsed[col])\n",
    "\n",
    "    respostas = [*parsed.animais, \n",
    "             *parsed.n_cervos,\n",
    "             *parsed.macaco,\n",
    "             *parsed.urso,\n",
    "             *parsed.cobra,\n",
    "             *parsed.dia_noite,\n",
    "             *parsed.sol,\n",
    "             *parsed.trilha,\n",
    "             *parsed.arvore,\n",
    "             *parsed.casa]\n",
    "    \n",
    "    return pd.DataFrame({'respostas': respostas, 'tipo': [*parsed.tipo] * 10})"
   ]
  },
  {
   "cell_type": "code",
   "execution_count": 102,
   "metadata": {},
   "outputs": [],
   "source": [
    "model = ols('''respostas~ C(tipo, Sum)''', data=encode_df_2(data)).fit()"
   ]
  },
  {
   "cell_type": "code",
   "execution_count": 103,
   "metadata": {},
   "outputs": [
    {
     "name": "stdout",
     "output_type": "stream",
     "text": [
      "                   sum_sq     df            F         PR(>F)\n",
      "Intercept     1141.686261    1.0  2092.433825  1.903770e-180\n",
      "C(tipo, Sum)     1.206261    1.0     2.210783   1.376819e-01\n",
      "Residual       271.721739  498.0          NaN            NaN\n"
     ]
    }
   ],
   "source": [
    "aov_table = sm.stats.anova_lm(model, typ=3)\n",
    "print(aov_table)"
   ]
  },
  {
   "cell_type": "code",
   "execution_count": 104,
   "metadata": {},
   "outputs": [],
   "source": [
    "sns.set_theme(style=\"darkgrid\")"
   ]
  },
  {
   "cell_type": "code",
   "execution_count": 105,
   "metadata": {},
   "outputs": [],
   "source": [
    "video = encode_df_2(data)[encode_df_2(data)['tipo'] == 'Vídeo'].sort_values(by='respostas')\n",
    "video['answers'] = video['respostas'].replace({0: 'Wrong', 1: 'DoNotKnow', 2: 'Right'})\n",
    "\n",
    "demo = encode_df_2(data)[encode_df_2(data)['tipo'] == 'Demo'].sort_values(by='respostas')\n",
    "demo['answers'] = demo['respostas'].replace({0: 'Wrong', 1: 'DoNotKnow', 2: 'Right'})"
   ]
  },
  {
   "cell_type": "code",
   "execution_count": 107,
   "metadata": {},
   "outputs": [
    {
     "data": {
      "text/plain": [
       "(0.0, 1.0)"
      ]
     },
     "execution_count": 107,
     "metadata": {},
     "output_type": "execute_result"
    },
    {
     "data": {
      "image/png": "[encoded data removed]",
      "text/plain": [
       "<Figure size 1000x500 with 2 Axes>"
      ]
     },
     "metadata": {},
     "output_type": "display_data"
    }
   ],
   "source": [
    "# create two graphs side by side showing the relative frequency of each value in the respostas column filtered by tipo\n",
    "# make both graphs with the same colors\n",
    "# make both graphs with the same y axis scale\n",
    "\n",
    "palette = {'Wrong': '#E15554', 'DoNotKnow': '#F2ED6F', 'Right': '#4B7F52'}\n",
    "\n",
    "fig, (ax1, ax2) = plt.subplots(1, 2, figsize=(10, 5))\n",
    "sns.histplot(data=demo, x='answers', hue='answers', palette=palette, stat='probability', ax=ax1, alpha=1)\n",
    "\n",
    "ax1.set_title('Demo')\n",
    "ax1.set_xlabel('Answers')\n",
    "ax1.set_ylabel('Density (%)')\n",
    "ax1.set_ylim(0, 1)\n",
    "\n",
    "sns.histplot(data=video, x='answers', hue='answers', palette=palette, stat='probability', ax=ax2, alpha=1)\n",
    "\n",
    "ax2.set_title('Video')\n",
    "ax2.set_xlabel('Answers')\n",
    "ax2.set_ylabel('Density (%)')\n",
    "ax2.set_ylim(0, 1)"
   ]
  },
  {
   "cell_type": "code",
   "execution_count": null,
   "metadata": {},
   "outputs": [],
   "source": []
  }
 ],
 "metadata": {
  "kernelspec": {
   "display_name": "Python 3",
   "language": "python",
   "name": "python3"
  },
  "language_info": {
   "codemirror_mode": {
    "name": "ipython",
    "version": 3
   },
   "file_extension": ".py",
   "mimetype": "text/x-python",
   "name": "python",
   "nbconvert_exporter": "python",
   "pygments_lexer": "ipython3",
   "version": "3.11.3"
  },
  "orig_nbformat": 4
 },
 "nbformat": 4,
 "nbformat_minor": 2
}
