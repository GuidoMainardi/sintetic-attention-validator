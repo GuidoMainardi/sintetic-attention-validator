{
 "cells": [
  {
   "cell_type": "code",
   "execution_count": 1,
   "metadata": {},
   "outputs": [],
   "source": [
    "import os\n",
    "\n",
    "# set working directory\n",
    "os.chdir('../')\n",
    "\n",
    "from model-validator.salient_validator import SalientValidator\n"
   ]
  },
  {
   "cell_type": "code",
   "execution_count": 2,
   "metadata": {},
   "outputs": [],
   "source": [
    "def load_videos(path: str) -> tuple:\n",
    "\n",
    "    screen_frames = [f'{path}/screen/{frame}' \n",
    "                        for frame in os.listdir(f'{path}/screen')\n",
    "                            if frame != '.DS_Store']\n",
    "    \n",
    "    # hm_frames = [f'{path}/heatmap/{frame}' \n",
    "    #                 for frame in map(lambda x: f'{x.split(\".\")[0].zfill(4)}.{x.split(\".\")[q]}', os.listdir(f'{path}/screen'))  \n",
    "    #                     if frame != '.DS_Store']\n",
    "\n",
    "    sal_frames = [f'{path}/sal/{frame}' \n",
    "                    for frame in os.listdir(f'{path}/sal')\n",
    "                        if frame != '.DS_Store']\n",
    "\n",
    "    return screen_frames, [], sal_frames\n"
   ]
  },
  {
   "cell_type": "code",
   "execution_count": 3,
   "metadata": {},
   "outputs": [
    {
     "name": "stdout",
     "output_type": "stream",
     "text": [
      "experiment: .DS_Store\n"
     ]
    },
    {
     "ename": "NotADirectoryError",
     "evalue": "[Errno 20] Not a directory: '../data/demo/.DS_Store/screen'",
     "output_type": "error",
     "traceback": [
      "\u001b[0;31m---------------------------------------------------------------------------\u001b[0m",
      "\u001b[0;31mNotADirectoryError\u001b[0m                        Traceback (most recent call last)",
      "Cell \u001b[0;32mIn[3], line 3\u001b[0m\n\u001b[1;32m      1\u001b[0m \u001b[39mfor\u001b[39;00m experiment \u001b[39min\u001b[39;00m os\u001b[39m.\u001b[39mlistdir(\u001b[39m'\u001b[39m\u001b[39m../data/demo\u001b[39m\u001b[39m'\u001b[39m):\n\u001b[1;32m      2\u001b[0m     \u001b[39mprint\u001b[39m(\u001b[39mf\u001b[39m\u001b[39m'\u001b[39m\u001b[39mexperiment: \u001b[39m\u001b[39m{\u001b[39;00mexperiment\u001b[39m}\u001b[39;00m\u001b[39m'\u001b[39m)\n\u001b[0;32m----> 3\u001b[0m     screen_frames, hm_fames, sal_frames \u001b[39m=\u001b[39m load_videos(\u001b[39mf\u001b[39;49m\u001b[39m'\u001b[39;49m\u001b[39m../data/demo/\u001b[39;49m\u001b[39m{\u001b[39;49;00mexperiment\u001b[39m}\u001b[39;49;00m\u001b[39m'\u001b[39;49m)\n\u001b[1;32m      4\u001b[0m     sv \u001b[39m=\u001b[39m SalientValidator(screen_frames, hm_fames, sal_frames)\n\u001b[1;32m      5\u001b[0m     sv\u001b[39m.\u001b[39mcreate_sal_visualization()\n",
      "Cell \u001b[0;32mIn[2], line 4\u001b[0m, in \u001b[0;36mload_videos\u001b[0;34m(path)\u001b[0m\n\u001b[1;32m      1\u001b[0m \u001b[39mdef\u001b[39;00m \u001b[39mload_videos\u001b[39m(path: \u001b[39mstr\u001b[39m) \u001b[39m-\u001b[39m\u001b[39m>\u001b[39m \u001b[39mtuple\u001b[39m:\n\u001b[1;32m      3\u001b[0m     screen_frames \u001b[39m=\u001b[39m [\u001b[39mf\u001b[39m\u001b[39m'\u001b[39m\u001b[39m{\u001b[39;00mpath\u001b[39m}\u001b[39;00m\u001b[39m/screen/\u001b[39m\u001b[39m{\u001b[39;00mframe\u001b[39m}\u001b[39;00m\u001b[39m'\u001b[39m \n\u001b[0;32m----> 4\u001b[0m                         \u001b[39mfor\u001b[39;00m frame \u001b[39min\u001b[39;00m os\u001b[39m.\u001b[39;49mlistdir(\u001b[39mf\u001b[39;49m\u001b[39m'\u001b[39;49m\u001b[39m{\u001b[39;49;00mpath\u001b[39m}\u001b[39;49;00m\u001b[39m/screen\u001b[39;49m\u001b[39m'\u001b[39;49m)\n\u001b[1;32m      5\u001b[0m                             \u001b[39mif\u001b[39;00m frame \u001b[39m!=\u001b[39m \u001b[39m'\u001b[39m\u001b[39m.DS_Store\u001b[39m\u001b[39m'\u001b[39m]\n\u001b[1;32m      7\u001b[0m     \u001b[39m# hm_frames = [f'{path}/heatmap/{frame}' \u001b[39;00m\n\u001b[1;32m      8\u001b[0m     \u001b[39m#                 for frame in map(lambda x: f'{x.split(\".\")[0].zfill(4)}.{x.split(\".\")[q]}', os.listdir(f'{path}/screen'))  \u001b[39;00m\n\u001b[1;32m      9\u001b[0m     \u001b[39m#                     if frame != '.DS_Store']\u001b[39;00m\n\u001b[1;32m     11\u001b[0m     sal_frames \u001b[39m=\u001b[39m [\u001b[39mf\u001b[39m\u001b[39m'\u001b[39m\u001b[39m{\u001b[39;00mpath\u001b[39m}\u001b[39;00m\u001b[39m/sal/\u001b[39m\u001b[39m{\u001b[39;00mframe\u001b[39m}\u001b[39;00m\u001b[39m'\u001b[39m \n\u001b[1;32m     12\u001b[0m                     \u001b[39mfor\u001b[39;00m frame \u001b[39min\u001b[39;00m os\u001b[39m.\u001b[39mlistdir(\u001b[39mf\u001b[39m\u001b[39m'\u001b[39m\u001b[39m{\u001b[39;00mpath\u001b[39m}\u001b[39;00m\u001b[39m/sal\u001b[39m\u001b[39m'\u001b[39m)\n\u001b[1;32m     13\u001b[0m                         \u001b[39mif\u001b[39;00m frame \u001b[39m!=\u001b[39m \u001b[39m'\u001b[39m\u001b[39m.DS_Store\u001b[39m\u001b[39m'\u001b[39m]\n",
      "\u001b[0;31mNotADirectoryError\u001b[0m: [Errno 20] Not a directory: '../data/demo/.DS_Store/screen'"
     ]
    }
   ],
   "source": [
    "for experiment in os.listdir('../data/demo'):\n",
    "    if experiment == '.DS_Store':\n",
    "        continue\n",
    "    print(f'experiment: {experiment}')\n",
    "    screen_frames, hm_fames, sal_frames = load_videos(f'../data/demo/{experiment}')\n",
    "    sv = SalientValidator(screen_frames, hm_fames, sal_frames)\n",
    "    sv.create_sal_visualization()"
   ]
  },
  {
   "cell_type": "code",
   "execution_count": null,
   "metadata": {},
   "outputs": [],
   "source": []
  },
  {
   "cell_type": "code",
   "execution_count": null,
   "metadata": {},
   "outputs": [],
   "source": []
  }
 ],
 "metadata": {
  "kernelspec": {
   "display_name": "Python 3",
   "language": "python",
   "name": "python3"
  },
  "language_info": {
   "codemirror_mode": {
    "name": "ipython",
    "version": 3
   },
   "file_extension": ".py",
   "mimetype": "text/x-python",
   "name": "python",
   "nbconvert_exporter": "python",
   "pygments_lexer": "ipython3",
   "version": "3.11.3"
  },
  "orig_nbformat": 4
 },
 "nbformat": 4,
 "nbformat_minor": 2
}
