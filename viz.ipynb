{
 "cells": [
  {
   "cell_type": "code",
   "execution_count": 1,
   "metadata": {},
   "outputs": [],
   "source": [
    "import cv2 as cv\n",
    "import os"
   ]
  },
  {
   "cell_type": "code",
   "execution_count": 2,
   "metadata": {},
   "outputs": [],
   "source": [
    "heatmap_path = 'data/Video/E11/heatmap/'\n",
    "salience_path = 'data/Video/E11/sal/'"
   ]
  },
  {
   "cell_type": "code",
   "execution_count": 3,
   "metadata": {},
   "outputs": [],
   "source": [
    "# create a video with heatmap and salience side by side\n",
    "heatmap = cv.imread(f'{heatmap_path}/0098.png')\n",
    "heatmap = cv.resize(heatmap, (0,0), fx=0.5, fy=0.5)\n",
    "frame = cv.hconcat([heatmap, heatmap])\n",
    "\n",
    "height, width, _ = frame.shape\n",
    "video_writer = cv.VideoWriter('side_by_side.mp4', \n",
    "                              cv.VideoWriter_fourcc(*'mp4v'), \n",
    "                              5, (width, height))\n",
    "\n",
    "for frame in sorted(os.listdir(heatmap_path))[150:200]:\n",
    "    if frame == '.DS_Store':\n",
    "        continue\n",
    "    heatmap = cv.imread(f'{heatmap_path}/{frame.split(\".\")[0]}.png')\n",
    "    salience = cv.imread(f'{salience_path}/{frame.split(\".\")[0]}.jpeg')\n",
    "    heatmap = cv.resize(heatmap, (0,0), fx=0.5, fy=0.5)\n",
    "    salience = cv.resize(salience, (0,0), fx=0.5, fy=0.5)\n",
    "    frame = cv.hconcat([heatmap, salience])\n",
    "\n",
    "    video_writer.write(frame)\n",
    "video_writer.release()"
   ]
  },
  {
   "cell_type": "code",
   "execution_count": null,
   "metadata": {},
   "outputs": [],
   "source": []
  }
 ],
 "metadata": {
  "kernelspec": {
   "display_name": "Python 3",
   "language": "python",
   "name": "python3"
  },
  "language_info": {
   "codemirror_mode": {
    "name": "ipython",
    "version": 3
   },
   "file_extension": ".py",
   "mimetype": "text/x-python",
   "name": "python",
   "nbconvert_exporter": "python",
   "pygments_lexer": "ipython3",
   "version": "3.11.3"
  },
  "orig_nbformat": 4
 },
 "nbformat": 4,
 "nbformat_minor": 2
}
