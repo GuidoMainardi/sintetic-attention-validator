{
 "cells": [
  {
   "cell_type": "code",
   "execution_count": 29,
   "metadata": {},
   "outputs": [],
   "source": [
    "import os\n",
    "\n",
    "# set working directory\n",
    "os.chdir('../model-validator')\n",
    "\n",
    "from salient_validator import SalientValidator\n"
   ]
  },
  {
   "cell_type": "code",
   "execution_count": 30,
   "metadata": {},
   "outputs": [],
   "source": [
    "def load_videos(path: str) -> tuple:\n",
    "\n",
    "    screen_frames = [f'{path}/screen/{frame}' \n",
    "                        for frame in os.listdir(f'{path}/screen') \n",
    "                            if frame != '.DS_Store']\n",
    "    \n",
    "    hm_frames = [f'{path}/heatmap/{frame}' \n",
    "                    for frame in os.listdir(f'{path}/heatmap') \n",
    "                        if frame != '.DS_Store']\n",
    "\n",
    "    sal_frames = [f'{path}/sal/{frame}' \n",
    "                    for frame in os.listdir(f'{path}/sal') \n",
    "                        if frame != '.DS_Store']\n",
    "\n",
    "    return screen_frames, hm_frames, sal_frames\n"
   ]
  },
  {
   "cell_type": "code",
   "execution_count": 31,
   "metadata": {},
   "outputs": [
    {
     "name": "stdout",
     "output_type": "stream",
     "text": [
      "Loading frames...\n",
      "Frames loaded\n"
     ]
    }
   ],
   "source": [
    "screen_frames, hm_frames, sal_frames = load_videos(f'../data/Video/E11')\n",
    "sv = SalientValidator(screen_frames, hm_frames, sal_frames)"
   ]
  },
  {
   "cell_type": "code",
   "execution_count": 32,
   "metadata": {},
   "outputs": [],
   "source": [
    "sv.create_visualization()"
   ]
  }
 ],
 "metadata": {
  "kernelspec": {
   "display_name": "Python 3",
   "language": "python",
   "name": "python3"
  },
  "language_info": {
   "codemirror_mode": {
    "name": "ipython",
    "version": 3
   },
   "file_extension": ".py",
   "mimetype": "text/x-python",
   "name": "python",
   "nbconvert_exporter": "python",
   "pygments_lexer": "ipython3",
   "version": "3.11.3"
  },
  "orig_nbformat": 4
 },
 "nbformat": 4,
 "nbformat_minor": 2
}
