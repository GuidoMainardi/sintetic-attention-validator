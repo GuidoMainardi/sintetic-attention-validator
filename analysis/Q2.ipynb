{
 "cells": [
  {
   "cell_type": "code",
   "execution_count": 72,
   "metadata": {},
   "outputs": [],
   "source": [
    "import pandas as pd\n",
    "from statsmodels.formula.api import ols\n",
    "import statsmodels.api as sm"
   ]
  },
  {
   "cell_type": "code",
   "execution_count": 73,
   "metadata": {},
   "outputs": [],
   "source": [
    "data = pd.read_csv('forms.csv').loc[:, 'perguntar para o entrevistador:':]"
   ]
  },
  {
   "cell_type": "code",
   "execution_count": 74,
   "metadata": {},
   "outputs": [],
   "source": [
    "data.columns = ['tipo', 'animais', 'n_cervos', 'macaco', 'urso', 'cobra', 'dia_noite', 'sol', 'trilha', 'arvore', 'casa']"
   ]
  },
  {
   "cell_type": "code",
   "execution_count": 76,
   "metadata": {},
   "outputs": [],
   "source": [
    "respostas_certas_demo = {\n",
    "    'n_cervos': '3',\n",
    "    'macaco': 'Não havia macaco no trajeto',\n",
    "    'urso': 'Dormindo',\n",
    "    'cobra': 'Não havia cobra no trajeto',\n",
    "    'dia_noite': 'Dia',\n",
    "    'sol': 'Sim',\n",
    "    'trilha': 'Terra',\n",
    "    'arvore': 'Pinheiro',\n",
    "    'casa': 'Vermelha'\n",
    "}"
   ]
  },
  {
   "cell_type": "code",
   "execution_count": 77,
   "metadata": {},
   "outputs": [],
   "source": [
    "respostas_certas_video = {\n",
    "    'n_cervos': '3',\n",
    "    'macaco': 'Não havia macaco no trajeto',\n",
    "    'urso': 'Dormindo',\n",
    "    'cobra': 'Não havia cobra no trajeto',\n",
    "    'dia_noite': 'Dia',\n",
    "    'sol': 'Não',\n",
    "    'trilha': 'Terra',\n",
    "    'arvore': 'Pinheiro',\n",
    "    'casa': 'Vermelha'\n",
    "}"
   ]
  },
  {
   "cell_type": "code",
   "execution_count": 58,
   "metadata": {},
   "outputs": [],
   "source": [
    "def encode_df(df):\n",
    "    parsed = df.copy()\n",
    "    for i in range(len(parsed)):\n",
    "        if parsed.loc[i, 'tipo'] == 'demo':\n",
    "            respostas = respostas_certas_demo\n",
    "        else:\n",
    "            respostas = respostas_certas_video  \n",
    "\n",
    "        for key, value in respostas.items():\n",
    "            if parsed.loc[i, key] == value:\n",
    "                parsed.loc[i, key] = 1\n",
    "            elif parsed.loc[i, key] == 'Não sei':\n",
    "                parsed.loc[i, key] = 0\n",
    "            else:\n",
    "                parsed.loc[i, key] = 0\n",
    "\n",
    "        if all(animal in parsed.loc[i, 'animais'] for animal in ['Cervo', 'Urso', 'Passarinho']) \\\n",
    "            and len(parsed.loc[i, 'animais'].split(',')) == 3:\n",
    "                parsed.loc[i, 'animais'] = 1\n",
    "        else:\n",
    "            parsed.loc[i, 'animais'] = 0\n",
    "    \n",
    "    for col in parsed.columns[1:]:\n",
    "        parsed[col] = pd.to_numeric(parsed[col])\n",
    "\n",
    "    respostas = [*parsed.animais, \n",
    "             *parsed.n_cervos,\n",
    "             *parsed.macaco,\n",
    "             *parsed.urso,\n",
    "             *parsed.cobra,\n",
    "             *parsed.dia_noite,\n",
    "             *parsed.sol,\n",
    "             *parsed.trilha,\n",
    "             *parsed.arvore,\n",
    "             *parsed.casa]\n",
    "    \n",
    "    return pd.DataFrame({'respostas': respostas, 'tipo': [*parsed.tipo] * 10})"
   ]
  },
  {
   "cell_type": "code",
   "execution_count": 59,
   "metadata": {},
   "outputs": [],
   "source": [
    "model = ols('''respostas~ C(tipo, Sum)''', data=encode_df(data)).fit()"
   ]
  },
  {
   "cell_type": "code",
   "execution_count": 60,
   "metadata": {},
   "outputs": [
    {
     "name": "stdout",
     "output_type": "stream",
     "text": [
      "                  sum_sq     df           F         PR(>F)\n",
      "Intercept     218.565681    1.0  977.401605  1.561486e-119\n",
      "C(tipo, Sum)    0.837681    1.0    3.746018   5.349922e-02\n",
      "Residual      111.362319  498.0         NaN            NaN\n"
     ]
    }
   ],
   "source": [
    "aov_table = sm.stats.anova_lm(model, typ=3)\n",
    "print(aov_table)"
   ]
  },
  {
   "cell_type": "code",
   "execution_count": 50,
   "metadata": {},
   "outputs": [],
   "source": [
    "import seaborn as sns"
   ]
  },
  {
   "cell_type": "code",
   "execution_count": 61,
   "metadata": {},
   "outputs": [],
   "source": [
    "def encode_df_2(df):\n",
    "    parsed = df.copy()\n",
    "    for i in range(len(parsed)):\n",
    "        if parsed.loc[i, 'tipo'] == 'demo':\n",
    "            respostas = respostas_certas_demo\n",
    "        else:\n",
    "            respostas = respostas_certas_video  \n",
    "\n",
    "        for key, value in respostas.items():\n",
    "            if parsed.loc[i, key] == value:\n",
    "                parsed.loc[i, key] = 2\n",
    "            elif parsed.loc[i, key] == 'Não sei':\n",
    "                parsed.loc[i, key] = 1\n",
    "            else:\n",
    "                parsed.loc[i, key] = 0\n",
    "\n",
    "        if all(animal in parsed.loc[i, 'animais'] for animal in ['Cervo', 'Urso', 'Passarinho']) \\\n",
    "            and len(parsed.loc[i, 'animais'].split(',')) == 3:\n",
    "                parsed.loc[i, 'animais'] = 2\n",
    "        elif any(animal in parsed.loc[i, 'animais'] for animal in ['Cervo', 'Urso', 'Passarinho']):\n",
    "            parsed.loc[i, 'animais'] = 1\n",
    "        else:\n",
    "            parsed.loc[i, 'animais'] = 0\n",
    "    \n",
    "    for col in parsed.columns[1:]:\n",
    "        parsed[col] = pd.to_numeric(parsed[col])\n",
    "\n",
    "    respostas = [*parsed.animais, \n",
    "             *parsed.n_cervos,\n",
    "             *parsed.macaco,\n",
    "             *parsed.urso,\n",
    "             *parsed.cobra,\n",
    "             *parsed.dia_noite,\n",
    "             *parsed.sol,\n",
    "             *parsed.trilha,\n",
    "             *parsed.arvore,\n",
    "             *parsed.casa]\n",
    "    \n",
    "    return pd.DataFrame({'respostas': respostas, 'tipo': [*parsed.tipo] * 10})"
   ]
  },
  {
   "cell_type": "code",
   "execution_count": 130,
   "metadata": {},
   "outputs": [],
   "source": [
    "import seaborn as sns\n",
    "\n",
    "sns.set_theme(style=\"darkgrid\")"
   ]
  },
  {
   "cell_type": "code",
   "execution_count": 131,
   "metadata": {},
   "outputs": [],
   "source": [
    "demo_a = count_respostas(encode_df_2(data), 'Demo')\n",
    "video_a = count_respostas(encode_df_2(data), 'Vídeo')\n"
   ]
  },
  {
   "cell_type": "code",
   "execution_count": 132,
   "metadata": {},
   "outputs": [],
   "source": [
    "video = encode_df_2(data)[encode_df_2(data)['tipo'] == 'Vídeo'].sort_values(by='respostas')\n",
    "video['answers'] = video['respostas'].replace({0: 'Miss', 1: 'Unsure', 2: 'Hit'})\n",
    "\n",
    "demo = encode_df_2(data)[encode_df_2(data)['tipo'] == 'Demo'].sort_values(by='respostas')\n",
    "demo['answers'] = demo['respostas'].replace({0: 'Miss', 1: 'Unsure', 2: 'Hit'})"
   ]
  },
  {
   "cell_type": "code",
   "execution_count": 136,
   "metadata": {},
   "outputs": [
    {
     "data": {
      "text/plain": [
       "(0.0, 1.0)"
      ]
     },
     "execution_count": 136,
     "metadata": {},
     "output_type": "execute_result"
    },
    {
     "data": {
      "image/png": "[encoded data removed]",
      "text/plain": [
       "<Figure size 1000x500 with 2 Axes>"
      ]
     },
     "metadata": {},
     "output_type": "display_data"
    }
   ],
   "source": [
    "# create two graphs side by side showing the relative frequency of each value in the respostas column filtered by tipo\n",
    "# make both graphs with the same colors\n",
    "# make both graphs with the same y axis scale\n",
    "\n",
    "palette = {'Miss': '#E15554', 'Unsure': '#F2ED6F', 'Hit': '#4B7F52'}\n",
    "\n",
    "fig, (ax1, ax2) = plt.subplots(1, 2, figsize=(10, 5))\n",
    "sns.histplot(data=demo, x='answers', hue='answers', palette=palette, stat='probability', ax=ax1, alpha=1)\n",
    "\n",
    "ax1.set_title('Demo answers')\n",
    "ax1.set_xlabel('Answers')\n",
    "ax1.set_ylim(0, 1)\n",
    "\n",
    "sns.histplot(data=video, x='answers', hue='answers', palette=palette, stat='probability', ax=ax2, alpha=1)\n",
    "\n",
    "ax2.set_title('Video answers')\n",
    "ax2.set_xlabel('Answers')\n",
    "ax2.set_ylim(0, 1)"
   ]
  },
  {
   "cell_type": "code",
   "execution_count": null,
   "metadata": {},
   "outputs": [],
   "source": []
  }
 ],
 "metadata": {
  "kernelspec": {
   "display_name": "Python 3",
   "language": "python",
   "name": "python3"
  },
  "language_info": {
   "codemirror_mode": {
    "name": "ipython",
    "version": 3
   },
   "file_extension": ".py",
   "mimetype": "text/x-python",
   "name": "python",
   "nbconvert_exporter": "python",
   "pygments_lexer": "ipython3",
   "version": "3.11.3"
  },
  "orig_nbformat": 4
 },
 "nbformat": 4,
 "nbformat_minor": 2
}
