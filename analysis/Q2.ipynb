{
 "cells": [
  {
   "cell_type": "code",
   "execution_count": 1,
   "metadata": {},
   "outputs": [],
   "source": [
    "import pandas as pd\n",
    "from statsmodels.formula.api import ols\n",
    "import statsmodels.api as sm"
   ]
  },
  {
   "cell_type": "code",
   "execution_count": 2,
   "metadata": {},
   "outputs": [],
   "source": [
    "data = pd.read_csv('forms.csv').loc[:, 'perguntar para o entrevistador:':]"
   ]
  },
  {
   "cell_type": "code",
   "execution_count": 3,
   "metadata": {},
   "outputs": [],
   "source": [
    "data.columns = ['tipo', 'animais', 'n_cervos', 'macaco', 'urso', 'cobra', 'dia_noite', 'sol', 'trilha', 'arvore', 'casa']"
   ]
  },
  {
   "cell_type": "code",
   "execution_count": 4,
   "metadata": {},
   "outputs": [],
   "source": [
    "parsed = data.copy()"
   ]
  },
  {
   "cell_type": "code",
   "execution_count": 5,
   "metadata": {},
   "outputs": [],
   "source": [
    "respostas_certas_demo = {\n",
    "    'n_cervos': '3',\n",
    "    'macaco': 'Não havia macaco no trajeto',\n",
    "    'urso': 'Dormindo',\n",
    "    'cobra': 'Não havia cobra no trajeto',\n",
    "    'dia_noite': 'Dia',\n",
    "    'sol': 'Sim',\n",
    "    'trilha': 'Terra',\n",
    "    'arvore': 'Pinheiro',\n",
    "    'casa': 'Vermelha'\n",
    "}"
   ]
  },
  {
   "cell_type": "code",
   "execution_count": 6,
   "metadata": {},
   "outputs": [],
   "source": [
    "respostas_certas_video = {\n",
    "    'n_cervos': '3',\n",
    "    'macaco': 'Não havia macaco no trajeto',\n",
    "    'urso': 'Dormindo',\n",
    "    'cobra': 'Não havia cobra no trajeto',\n",
    "    'dia_noite': 'Dia',\n",
    "    'sol': 'Não',\n",
    "    'trilha': 'Terra',\n",
    "    'arvore': 'Pinheiro',\n",
    "    'casa': 'Vermelha'\n",
    "}"
   ]
  },
  {
   "cell_type": "code",
   "execution_count": 7,
   "metadata": {},
   "outputs": [
    {
     "data": {
      "text/html": [
       "<div>\n",
       "<style scoped>\n",
       "    .dataframe tbody tr th:only-of-type {\n",
       "        vertical-align: middle;\n",
       "    }\n",
       "\n",
       "    .dataframe tbody tr th {\n",
       "        vertical-align: top;\n",
       "    }\n",
       "\n",
       "    .dataframe thead th {\n",
       "        text-align: right;\n",
       "    }\n",
       "</style>\n",
       "<table border=\"1\" class=\"dataframe\">\n",
       "  <thead>\n",
       "    <tr style=\"text-align: right;\">\n",
       "      <th></th>\n",
       "      <th>tipo</th>\n",
       "      <th>animais</th>\n",
       "      <th>n_cervos</th>\n",
       "      <th>macaco</th>\n",
       "      <th>urso</th>\n",
       "      <th>cobra</th>\n",
       "      <th>dia_noite</th>\n",
       "      <th>sol</th>\n",
       "      <th>trilha</th>\n",
       "      <th>arvore</th>\n",
       "      <th>casa</th>\n",
       "    </tr>\n",
       "  </thead>\n",
       "  <tbody>\n",
       "    <tr>\n",
       "      <th>0</th>\n",
       "      <td>Demo</td>\n",
       "      <td>1</td>\n",
       "      <td>1</td>\n",
       "      <td>1</td>\n",
       "      <td>1</td>\n",
       "      <td>1</td>\n",
       "      <td>1</td>\n",
       "      <td>0</td>\n",
       "      <td>1</td>\n",
       "      <td>1</td>\n",
       "      <td>1</td>\n",
       "    </tr>\n",
       "    <tr>\n",
       "      <th>1</th>\n",
       "      <td>Vídeo</td>\n",
       "      <td>0</td>\n",
       "      <td>0</td>\n",
       "      <td>1</td>\n",
       "      <td>1</td>\n",
       "      <td>1</td>\n",
       "      <td>1</td>\n",
       "      <td>1</td>\n",
       "      <td>1</td>\n",
       "      <td>0</td>\n",
       "      <td>1</td>\n",
       "    </tr>\n",
       "    <tr>\n",
       "      <th>2</th>\n",
       "      <td>Demo</td>\n",
       "      <td>0</td>\n",
       "      <td>0</td>\n",
       "      <td>1</td>\n",
       "      <td>0</td>\n",
       "      <td>1</td>\n",
       "      <td>1</td>\n",
       "      <td>0</td>\n",
       "      <td>0</td>\n",
       "      <td>0</td>\n",
       "      <td>0</td>\n",
       "    </tr>\n",
       "    <tr>\n",
       "      <th>3</th>\n",
       "      <td>Vídeo</td>\n",
       "      <td>0</td>\n",
       "      <td>1</td>\n",
       "      <td>1</td>\n",
       "      <td>1</td>\n",
       "      <td>1</td>\n",
       "      <td>1</td>\n",
       "      <td>1</td>\n",
       "      <td>1</td>\n",
       "      <td>0</td>\n",
       "      <td>1</td>\n",
       "    </tr>\n",
       "    <tr>\n",
       "      <th>4</th>\n",
       "      <td>Demo</td>\n",
       "      <td>0</td>\n",
       "      <td>0</td>\n",
       "      <td>0</td>\n",
       "      <td>0</td>\n",
       "      <td>0</td>\n",
       "      <td>1</td>\n",
       "      <td>0</td>\n",
       "      <td>1</td>\n",
       "      <td>0</td>\n",
       "      <td>1</td>\n",
       "    </tr>\n",
       "  </tbody>\n",
       "</table>\n",
       "</div>"
      ],
      "text/plain": [
       "    tipo animais n_cervos macaco urso cobra dia_noite sol trilha arvore casa\n",
       "0   Demo       1        1      1    1     1         1   0      1      1    1\n",
       "1  Vídeo       0        0      1    1     1         1   1      1      0    1\n",
       "2   Demo       0        0      1    0     1         1   0      0      0    0\n",
       "3  Vídeo       0        1      1    1     1         1   1      1      0    1\n",
       "4   Demo       0        0      0    0     0         1   0      1      0    1"
      ]
     },
     "execution_count": 7,
     "metadata": {},
     "output_type": "execute_result"
    }
   ],
   "source": [
    "# change to 1 when the answer is correct and 0 when it is wrong\n",
    "# based on tipo column to check the right answer\n",
    "for i in range(len(parsed)):\n",
    "    if parsed.loc[i, 'tipo'] == 'demo':\n",
    "        respostas = respostas_certas_demo\n",
    "    else:\n",
    "        respostas = respostas_certas_video  \n",
    "\n",
    "    for key, value in respostas.items():\n",
    "        if parsed.loc[i, key] == value:\n",
    "            parsed.loc[i, key] = 1\n",
    "        elif parsed.loc[i, key] == 'Não sei':\n",
    "            parsed.loc[i, key] = 0\n",
    "        else:\n",
    "            parsed.loc[i, key] = 0\n",
    "\n",
    "    if all(animal in parsed.loc[i, 'animais'] for animal in ['Cervo', 'Urso', 'Passarinho']):\n",
    "        if len(parsed.loc[i, 'animais'].split(',')) == 3:\n",
    "            parsed.loc[i, 'animais'] = 1\n",
    "        else:\n",
    "            parsed.loc[i, 'animais'] = 0\n",
    "    elif any(animal in parsed.loc[i, 'animais'] for animal in ['Cervo', 'Urso', 'Passarinho']):\n",
    "        parsed.loc[i, 'animais'] = 0\n",
    "    else:\n",
    "        parsed.loc[i, 'animais'] = 0\n",
    "\n",
    "parsed.head()"
   ]
  },
  {
   "cell_type": "code",
   "execution_count": 8,
   "metadata": {},
   "outputs": [],
   "source": [
    "# convert all but tipo column to numeric\n",
    "for col in parsed.columns[1:]:\n",
    "    parsed[col] = pd.to_numeric(parsed[col])\n"
   ]
  },
  {
   "cell_type": "code",
   "execution_count": 9,
   "metadata": {},
   "outputs": [],
   "source": [
    "respostas = [*parsed.animais, \n",
    "             *parsed.n_cervos,\n",
    "             *parsed.macaco,\n",
    "             *parsed.urso,\n",
    "             *parsed.cobra,\n",
    "             *parsed.dia_noite,\n",
    "             *parsed.sol,\n",
    "             *parsed.trilha,\n",
    "             *parsed.arvore,\n",
    "             *parsed.casa]\n",
    "\n",
    "tipos = [*parsed.tipo] * 10"
   ]
  },
  {
   "cell_type": "code",
   "execution_count": 10,
   "metadata": {},
   "outputs": [
    {
     "data": {
      "text/html": [
       "<div>\n",
       "<style scoped>\n",
       "    .dataframe tbody tr th:only-of-type {\n",
       "        vertical-align: middle;\n",
       "    }\n",
       "\n",
       "    .dataframe tbody tr th {\n",
       "        vertical-align: top;\n",
       "    }\n",
       "\n",
       "    .dataframe thead th {\n",
       "        text-align: right;\n",
       "    }\n",
       "</style>\n",
       "<table border=\"1\" class=\"dataframe\">\n",
       "  <thead>\n",
       "    <tr style=\"text-align: right;\">\n",
       "      <th></th>\n",
       "      <th>respostas</th>\n",
       "      <th>tipo</th>\n",
       "    </tr>\n",
       "  </thead>\n",
       "  <tbody>\n",
       "    <tr>\n",
       "      <th>0</th>\n",
       "      <td>1</td>\n",
       "      <td>Demo</td>\n",
       "    </tr>\n",
       "    <tr>\n",
       "      <th>1</th>\n",
       "      <td>0</td>\n",
       "      <td>Vídeo</td>\n",
       "    </tr>\n",
       "    <tr>\n",
       "      <th>2</th>\n",
       "      <td>0</td>\n",
       "      <td>Demo</td>\n",
       "    </tr>\n",
       "    <tr>\n",
       "      <th>3</th>\n",
       "      <td>0</td>\n",
       "      <td>Vídeo</td>\n",
       "    </tr>\n",
       "    <tr>\n",
       "      <th>4</th>\n",
       "      <td>0</td>\n",
       "      <td>Demo</td>\n",
       "    </tr>\n",
       "  </tbody>\n",
       "</table>\n",
       "</div>"
      ],
      "text/plain": [
       "   respostas   tipo\n",
       "0          1   Demo\n",
       "1          0  Vídeo\n",
       "2          0   Demo\n",
       "3          0  Vídeo\n",
       "4          0   Demo"
      ]
     },
     "execution_count": 10,
     "metadata": {},
     "output_type": "execute_result"
    }
   ],
   "source": [
    "data = pd.DataFrame({'respostas': respostas, 'tipo': tipos})\n",
    "data.head()"
   ]
  },
  {
   "cell_type": "code",
   "execution_count": 11,
   "metadata": {},
   "outputs": [],
   "source": [
    "model = ols('''respostas~ C(tipo, Sum)''', data=data).fit()"
   ]
  },
  {
   "cell_type": "code",
   "execution_count": 12,
   "metadata": {},
   "outputs": [
    {
     "name": "stdout",
     "output_type": "stream",
     "text": [
      "                  sum_sq     df           F         PR(>F)\n",
      "Intercept     218.565681    1.0  977.401605  1.561486e-119\n",
      "C(tipo, Sum)    0.837681    1.0    3.746018   5.349922e-02\n",
      "Residual      111.362319  498.0         NaN            NaN\n"
     ]
    }
   ],
   "source": [
    "aov_table = sm.stats.anova_lm(model, typ=3)\n",
    "print(aov_table)"
   ]
  },
  {
   "cell_type": "code",
   "execution_count": 471,
   "metadata": {},
   "outputs": [],
   "source": [
    "# filter dataframe based on perguntar para o entrevistador: value\n",
    "\n",
    "video = data[data.tipo == 'Vídeo']\n",
    "demo = data[data.tipo == 'Demo']"
   ]
  },
  {
   "cell_type": "code",
   "execution_count": 472,
   "metadata": {},
   "outputs": [],
   "source": [
    "total_demo = 0\n",
    "total_video = 0\n",
    "\n",
    "abstinencias_demo = 0\n",
    "abstinencias_video = 0"
   ]
  },
  {
   "cell_type": "code",
   "execution_count": 473,
   "metadata": {},
   "outputs": [],
   "source": [
    "def count_wrong_animals(df):\n",
    "    animais = df.animais.str.split(', ')\n",
    "    count = 0\n",
    "    for resp in animais:\n",
    "        #if all animal in resp\n",
    "        if any(animal in resp for animal in ['Macaco', 'Cobra', 'Aranha']):\n",
    "            count += 1\n",
    "    return count"
   ]
  },
  {
   "cell_type": "code",
   "execution_count": 474,
   "metadata": {},
   "outputs": [],
   "source": [
    "def extrict_animals(df, animals):\n",
    "    animais = df.animais.str.split(', ')\n",
    "    count = 0\n",
    "    for resp in animais:\n",
    "        #if all animal in resp\n",
    "        if all(animal in resp for animal in animals) and len(animals) == len(resp):\n",
    "            count += 1\n",
    "    return count"
   ]
  },
  {
   "attachments": {},
   "cell_type": "markdown",
   "metadata": {},
   "source": [
    "# Pergunta 1:\n",
    "## Quais animais apareceram no trajeto?\n",
    "\n",
    "Resposta correta:\n",
    "- Cervo, Passarinho, Urso\n",
    "\n",
    "Resposta parcial:\n",
    "- Contem algum dos animais da respsota correta, mas nao todos"
   ]
  },
  {
   "cell_type": "code",
   "execution_count": 475,
   "metadata": {},
   "outputs": [
    {
     "ename": "AttributeError",
     "evalue": "'DataFrame' object has no attribute 'animais'",
     "output_type": "error",
     "traceback": [
      "\u001b[0;31m---------------------------------------------------------------------------\u001b[0m",
      "\u001b[0;31mAttributeError\u001b[0m                            Traceback (most recent call last)",
      "Cell \u001b[0;32mIn[475], line 4\u001b[0m\n\u001b[1;32m      1\u001b[0m \u001b[39m# animais demo\u001b[39;00m\n\u001b[1;32m      3\u001b[0m total \u001b[39m=\u001b[39m \u001b[39mlen\u001b[39m(demo)\n\u001b[0;32m----> 4\u001b[0m respostas_certas \u001b[39m=\u001b[39m extrict_animals(demo, [\u001b[39m\"\u001b[39;49m\u001b[39mCervo\u001b[39;49m\u001b[39m\"\u001b[39;49m, \u001b[39m\"\u001b[39;49m\u001b[39mPassarinho\u001b[39;49m\u001b[39m\"\u001b[39;49m, \u001b[39m\"\u001b[39;49m\u001b[39mUrso\u001b[39;49m\u001b[39m\"\u001b[39;49m])\n\u001b[1;32m      5\u001b[0m respostas_erradas \u001b[39m=\u001b[39m count_wrong_animals(demo)\n\u001b[1;32m      6\u001b[0m respostas_parciais \u001b[39m=\u001b[39m total \u001b[39m-\u001b[39m respostas_certas \u001b[39m-\u001b[39m respostas_erradas\n",
      "Cell \u001b[0;32mIn[474], line 2\u001b[0m, in \u001b[0;36mextrict_animals\u001b[0;34m(df, animals)\u001b[0m\n\u001b[1;32m      1\u001b[0m \u001b[39mdef\u001b[39;00m \u001b[39mextrict_animals\u001b[39m(df, animals):\n\u001b[0;32m----> 2\u001b[0m     animais \u001b[39m=\u001b[39m df\u001b[39m.\u001b[39;49manimais\u001b[39m.\u001b[39mstr\u001b[39m.\u001b[39msplit(\u001b[39m'\u001b[39m\u001b[39m, \u001b[39m\u001b[39m'\u001b[39m)\n\u001b[1;32m      3\u001b[0m     count \u001b[39m=\u001b[39m \u001b[39m0\u001b[39m\n\u001b[1;32m      4\u001b[0m     \u001b[39mfor\u001b[39;00m resp \u001b[39min\u001b[39;00m animais:\n\u001b[1;32m      5\u001b[0m         \u001b[39m#if all animal in resp\u001b[39;00m\n",
      "File \u001b[0;32m/opt/homebrew/lib/python3.11/site-packages/pandas/core/generic.py:5902\u001b[0m, in \u001b[0;36mNDFrame.__getattr__\u001b[0;34m(self, name)\u001b[0m\n\u001b[1;32m   5895\u001b[0m \u001b[39mif\u001b[39;00m (\n\u001b[1;32m   5896\u001b[0m     name \u001b[39mnot\u001b[39;00m \u001b[39min\u001b[39;00m \u001b[39mself\u001b[39m\u001b[39m.\u001b[39m_internal_names_set\n\u001b[1;32m   5897\u001b[0m     \u001b[39mand\u001b[39;00m name \u001b[39mnot\u001b[39;00m \u001b[39min\u001b[39;00m \u001b[39mself\u001b[39m\u001b[39m.\u001b[39m_metadata\n\u001b[1;32m   5898\u001b[0m     \u001b[39mand\u001b[39;00m name \u001b[39mnot\u001b[39;00m \u001b[39min\u001b[39;00m \u001b[39mself\u001b[39m\u001b[39m.\u001b[39m_accessors\n\u001b[1;32m   5899\u001b[0m     \u001b[39mand\u001b[39;00m \u001b[39mself\u001b[39m\u001b[39m.\u001b[39m_info_axis\u001b[39m.\u001b[39m_can_hold_identifiers_and_holds_name(name)\n\u001b[1;32m   5900\u001b[0m ):\n\u001b[1;32m   5901\u001b[0m     \u001b[39mreturn\u001b[39;00m \u001b[39mself\u001b[39m[name]\n\u001b[0;32m-> 5902\u001b[0m \u001b[39mreturn\u001b[39;00m \u001b[39mobject\u001b[39;49m\u001b[39m.\u001b[39;49m\u001b[39m__getattribute__\u001b[39;49m(\u001b[39mself\u001b[39;49m, name)\n",
      "\u001b[0;31mAttributeError\u001b[0m: 'DataFrame' object has no attribute 'animais'"
     ]
    }
   ],
   "source": [
    "# animais demo\n",
    "\n",
    "total = len(demo)\n",
    "respostas_certas = extrict_animals(demo, [\"Cervo\", \"Passarinho\", \"Urso\"])\n",
    "respostas_erradas = count_wrong_animals(demo)\n",
    "respostas_parciais = total - respostas_certas - respostas_erradas\n",
    "\n",
    "\n",
    "total_demo += respostas_certas\n",
    "print(f'Respostas totalmente corretas: {respostas_certas}')\n",
    "print(f'frequencia de respostas corretas: {respostas_certas/total}')\n",
    "print()\n",
    "print(f'Respostas parcialmente corretas: {respostas_parciais}')\n",
    "print(f'frequencia de respostas parcialmente corretas: {respostas_parciais/total}')\n",
    "print()\n",
    "print(f'Respostas totalmente erradas: {respostas_erradas}')\n",
    "print(f'frequencia de respostas erradas: {respostas_erradas/total}')\n"
   ]
  },
  {
   "cell_type": "code",
   "execution_count": null,
   "metadata": {},
   "outputs": [
    {
     "name": "stdout",
     "output_type": "stream",
     "text": [
      "Respostas totalmente corretas: 6\n",
      "frequencia de respostas corretas: 0.2608695652173913\n",
      "\n",
      "Respostas parcialmente corretas: 12\n",
      "frequencia de respostas parcialmente corretas: 0.5217391304347826\n",
      "\n",
      "Respostas totalmente erradas: 5\n",
      "frequencia de respostas erradas: 0.21739130434782608\n"
     ]
    }
   ],
   "source": [
    "# animais video\n",
    "\n",
    "total = len(video)\n",
    "respostas_certas = extrict_animals(video, [\"Cervo\", \"Passarinho\", \"Urso\"])\n",
    "respostas_erradas = count_wrong_animals(video)\n",
    "respostas_parciais = total - respostas_certas - respostas_erradas\n",
    "\n",
    "\n",
    "total_video += respostas_certas\n",
    "print(f'Respostas totalmente corretas: {respostas_certas}')\n",
    "print(f'frequencia de respostas corretas: {respostas_certas/total}')\n",
    "print()\n",
    "print(f'Respostas parcialmente corretas: {respostas_parciais}')\n",
    "print(f'frequencia de respostas parcialmente corretas: {respostas_parciais/total}')\n",
    "print()\n",
    "print(f'Respostas totalmente erradas: {respostas_erradas}')\n",
    "print(f'frequencia de respostas erradas: {respostas_erradas/total}')"
   ]
  },
  {
   "attachments": {},
   "cell_type": "markdown",
   "metadata": {},
   "source": [
    "# Pergunta 2\n",
    "## Quanto Cervos tinha ao longo do trajeto?\n",
    "\n",
    "Resposta correta:\n",
    "- 3\n",
    "\n",
    "Abstinencia:\n",
    "- Não sei"
   ]
  },
  {
   "cell_type": "code",
   "execution_count": null,
   "metadata": {},
   "outputs": [],
   "source": [
    "def count_right(df, column, value):\n",
    "    return len(df[df[column] == value])"
   ]
  },
  {
   "cell_type": "code",
   "execution_count": null,
   "metadata": {},
   "outputs": [
    {
     "name": "stdout",
     "output_type": "stream",
     "text": [
      "Respostas corretas: 14\n",
      "frequencia de respostas corretas: 0.5185185185185185\n",
      "\n",
      "Abstinencias: 2\n",
      "frequencia de abstinencias: 0.07407407407407407\n",
      "\n",
      "Respostas erradas: 11\n",
      "frequencia de respostas erradas: 0.4074074074074074\n"
     ]
    }
   ],
   "source": [
    "# demo n_cervos\n",
    "\n",
    "total = len(demo)\n",
    "respostas_certas = count_right(demo, 'n_cervos', '3')\n",
    "abstinencias = count_right(demo, 'n_cervos', 'Não sei')\n",
    "\n",
    "total_demo += respostas_certas\n",
    "abstinencias_demo += abstinencias\n",
    "print(f'Respostas corretas: {respostas_certas}')\n",
    "print(f'frequencia de respostas corretas: {respostas_certas/total}')\n",
    "print()\n",
    "print(f'Abstinencias: {abstinencias}')\n",
    "print(f'frequencia de abstinencias: {abstinencias/total}')\n",
    "print()\n",
    "print(f'Respostas erradas: {total - respostas_certas - abstinencias}')\n",
    "print(f'frequencia de respostas erradas: {(total - respostas_certas - abstinencias)/total}')\n"
   ]
  },
  {
   "cell_type": "code",
   "execution_count": null,
   "metadata": {},
   "outputs": [
    {
     "name": "stdout",
     "output_type": "stream",
     "text": [
      "Respostas corretas: 16\n",
      "frequencia de respostas corretas: 0.6956521739130435\n",
      "\n",
      "Abstinencias: 0\n",
      "frequencia de abstinencias: 0.0\n",
      "\n",
      "Respostas erradas: 7\n",
      "frequencia de respostas erradas: 0.30434782608695654\n"
     ]
    }
   ],
   "source": [
    "# video n_cervos\n",
    "\n",
    "total = len(video)\n",
    "respostas_certas = count_right(video, 'n_cervos', '3')\n",
    "abstinencias = count_right(video, 'n_cervos', 'Não sei')\n",
    "\n",
    "total_video += respostas_certas\n",
    "abstinencias_video += abstinencias\n",
    "print(f'Respostas corretas: {respostas_certas}')\n",
    "print(f'frequencia de respostas corretas: {respostas_certas/total}')\n",
    "print()\n",
    "print(f'Abstinencias: {abstinencias}')\n",
    "print(f'frequencia de abstinencias: {abstinencias/total}')\n",
    "print()\n",
    "print(f'Respostas erradas: {total - respostas_certas - abstinencias}')\n",
    "print(f'frequencia de respostas erradas: {(total - respostas_certas - abstinencias)/total}')"
   ]
  },
  {
   "attachments": {},
   "cell_type": "markdown",
   "metadata": {},
   "source": [
    "# Pergunta 3\n",
    "## Aonde estava o Macaco?\n",
    "\n",
    "Resposta Certa:\n",
    "- Não havia macaco no trajeto\n",
    "\n",
    "Abstinencia:\n",
    "- Não sei"
   ]
  },
  {
   "cell_type": "code",
   "execution_count": null,
   "metadata": {},
   "outputs": [
    {
     "name": "stdout",
     "output_type": "stream",
     "text": [
      "Respostas corretas: 19\n",
      "frequencia de respostas corretas: 0.7037037037037037\n",
      "\n",
      "Abstinencias: 8\n",
      "frequencia de abstinencias: 0.2962962962962963\n",
      "\n",
      "Respostas erradas: 0\n",
      "frequencia de respostas erradas: 0.0\n"
     ]
    }
   ],
   "source": [
    "# Demo macaco\n",
    "\n",
    "total = len(demo)\n",
    "respostas_certas = count_right(demo, 'macaco', 'Não havia macaco no trajeto')\n",
    "abstinencias = count_right(demo, 'macaco', 'Não sei')\n",
    "\n",
    "total_demo += respostas_certas\n",
    "abstinencias_demo += abstinencias\n",
    "print(f'Respostas corretas: {respostas_certas}')\n",
    "print(f'frequencia de respostas corretas: {respostas_certas/total}')\n",
    "print()\n",
    "print(f'Abstinencias: {abstinencias}')\n",
    "print(f'frequencia de abstinencias: {abstinencias/total}')\n",
    "print()\n",
    "print(f'Respostas erradas: {total - respostas_certas - abstinencias}')\n",
    "print(f'frequencia de respostas erradas: {(total - respostas_certas - abstinencias)/total}')"
   ]
  },
  {
   "cell_type": "code",
   "execution_count": null,
   "metadata": {},
   "outputs": [
    {
     "name": "stdout",
     "output_type": "stream",
     "text": [
      "Respostas corretas: 17\n",
      "frequencia de respostas corretas: 0.7391304347826086\n",
      "\n",
      "Abstinencias: 3\n",
      "frequencia de abstinencias: 0.13043478260869565\n",
      "\n",
      "Respostas erradas: 3\n",
      "frequencia de respostas erradas: 0.13043478260869565\n"
     ]
    }
   ],
   "source": [
    "# Video macaco\n",
    "\n",
    "total = len(video)\n",
    "respostas_certas = count_right(video, 'macaco', 'Não havia macaco no trajeto')\n",
    "abstinencias = count_right(video, 'macaco', 'Não sei')\n",
    "\n",
    "total_video += respostas_certas\n",
    "abstinencias_video += abstinencias\n",
    "print(f'Respostas corretas: {respostas_certas}')\n",
    "print(f'frequencia de respostas corretas: {respostas_certas/total}')\n",
    "print()\n",
    "print(f'Abstinencias: {abstinencias}')\n",
    "print(f'frequencia de abstinencias: {abstinencias/total}')\n",
    "print()\n",
    "print(f'Respostas erradas: {total - respostas_certas - abstinencias}')\n",
    "print(f'frequencia de respostas erradas: {(total - respostas_certas - abstinencias)/total}')"
   ]
  },
  {
   "attachments": {},
   "cell_type": "markdown",
   "metadata": {},
   "source": [
    "# Perugunta 4\n",
    "## O que o urso estava fazendo?\n",
    "\n",
    "Resposta:\n",
    "- Dormindo\n",
    "\n",
    "Abistinencia:\n",
    "- Não sei"
   ]
  },
  {
   "cell_type": "code",
   "execution_count": null,
   "metadata": {},
   "outputs": [
    {
     "name": "stdout",
     "output_type": "stream",
     "text": [
      "Respostas corretas: 20\n",
      "frequencia de respostas corretas: 0.7407407407407407\n",
      "\n",
      "Abstinencias: 4\n",
      "frequencia de abstinencias: 0.14814814814814814\n",
      "\n",
      "Respostas erradas: 3\n",
      "frequencia de respostas erradas: 0.1111111111111111\n"
     ]
    }
   ],
   "source": [
    "# demo urso\n",
    "\n",
    "total = len(demo)\n",
    "respostas_certas = count_right(demo, 'urso', 'Dormindo')\n",
    "abstinencias = count_right(demo, 'urso', 'Não sei')\n",
    "\n",
    "total_demo += respostas_certas\n",
    "abstinencias_demo += abstinencias\n",
    "print(f'Respostas corretas: {respostas_certas}')\n",
    "print(f'frequencia de respostas corretas: {respostas_certas/total}')\n",
    "print()\n",
    "print(f'Abstinencias: {abstinencias}')\n",
    "print(f'frequencia de abstinencias: {abstinencias/total}')\n",
    "print()\n",
    "print(f'Respostas erradas: {total - respostas_certas - abstinencias}')\n",
    "print(f'frequencia de respostas erradas: {(total - respostas_certas - abstinencias)/total}')"
   ]
  },
  {
   "cell_type": "code",
   "execution_count": null,
   "metadata": {},
   "outputs": [
    {
     "name": "stdout",
     "output_type": "stream",
     "text": [
      "Respostas corretas: 21\n",
      "frequencia de respostas corretas: 0.9130434782608695\n",
      "\n",
      "Abstinencias: 0\n",
      "frequencia de abstinencias: 0.0\n",
      "\n",
      "Respostas erradas: 2\n",
      "frequencia de respostas erradas: 0.08695652173913043\n"
     ]
    }
   ],
   "source": [
    "# Video urso\n",
    "\n",
    "total = len(video)\n",
    "respostas_certas = count_right(video, 'urso', 'Dormindo')\n",
    "abstinencias = count_right(video, 'urso', 'Não sei')\n",
    "\n",
    "total_video += respostas_certas\n",
    "abstinencias_video += abstinencias\n",
    "print(f'Respostas corretas: {respostas_certas}')\n",
    "print(f'frequencia de respostas corretas: {respostas_certas/total}')\n",
    "print()\n",
    "print(f'Abstinencias: {abstinencias}')\n",
    "print(f'frequencia de abstinencias: {abstinencias/total}')\n",
    "print()\n",
    "print(f'Respostas erradas: {total - respostas_certas - abstinencias}')\n",
    "print(f'frequencia de respostas erradas: {(total - respostas_certas - abstinencias)/total}')"
   ]
  },
  {
   "attachments": {},
   "cell_type": "markdown",
   "metadata": {},
   "source": [
    "# Perugunta 5\n",
    "## Qual a cor da cobra?\n",
    "\n",
    "Resposta:\n",
    "- Não havia cobra no trajeto\n",
    "\n",
    "Abistinencia:\n",
    "- Não sei"
   ]
  },
  {
   "cell_type": "code",
   "execution_count": null,
   "metadata": {},
   "outputs": [
    {
     "name": "stdout",
     "output_type": "stream",
     "text": [
      "Respostas corretas: 19\n",
      "frequencia de respostas corretas: 0.7037037037037037\n",
      "\n",
      "Abstinencias: 7\n",
      "frequencia de abstinencias: 0.25925925925925924\n",
      "\n",
      "Respostas erradas: 1\n",
      "frequencia de respostas erradas: 0.037037037037037035\n"
     ]
    }
   ],
   "source": [
    "# demo cobra\n",
    "\n",
    "total = len(demo)\n",
    "respostas_certas = count_right(demo, 'cobra', 'Não havia cobra no trajeto')\n",
    "abstinencias = count_right(demo, 'cobra', 'Não sei')\n",
    "\n",
    "total_demo += respostas_certas\n",
    "abstinencias_demo += abstinencias\n",
    "print(f'Respostas corretas: {respostas_certas}')\n",
    "print(f'frequencia de respostas corretas: {respostas_certas/total}')\n",
    "print()\n",
    "print(f'Abstinencias: {abstinencias}')\n",
    "print(f'frequencia de abstinencias: {abstinencias/total}')\n",
    "print()\n",
    "print(f'Respostas erradas: {total - respostas_certas - abstinencias}')\n",
    "print(f'frequencia de respostas erradas: {(total - respostas_certas - abstinencias)/total}')"
   ]
  },
  {
   "cell_type": "code",
   "execution_count": null,
   "metadata": {},
   "outputs": [
    {
     "name": "stdout",
     "output_type": "stream",
     "text": [
      "Respostas corretas: 19\n",
      "frequencia de respostas corretas: 0.8260869565217391\n",
      "\n",
      "Abstinencias: 4\n",
      "frequencia de abstinencias: 0.17391304347826086\n",
      "\n",
      "Respostas erradas: 0\n",
      "frequencia de respostas erradas: 0.0\n"
     ]
    }
   ],
   "source": [
    "# Video cobra\n",
    "\n",
    "total = len(video)\n",
    "respostas_certas = count_right(video, 'cobra', 'Não havia cobra no trajeto')\n",
    "abstinencias = count_right(video, 'cobra', 'Não sei')\n",
    "\n",
    "total_video += respostas_certas\n",
    "abstinencias_video += abstinencias\n",
    "print(f'Respostas corretas: {respostas_certas}')\n",
    "print(f'frequencia de respostas corretas: {respostas_certas/total}')\n",
    "print()\n",
    "print(f'Abstinencias: {abstinencias}')\n",
    "print(f'frequencia de abstinencias: {abstinencias/total}')\n",
    "print()\n",
    "print(f'Respostas erradas: {total - respostas_certas - abstinencias}')\n",
    "print(f'frequencia de respostas erradas: {(total - respostas_certas - abstinencias)/total}')"
   ]
  },
  {
   "attachments": {},
   "cell_type": "markdown",
   "metadata": {},
   "source": [
    "# Perugunta 6\n",
    "## O percurso aconteceu durante o dia ou a noite?\n",
    "\n",
    "Resposta:\n",
    "- Dia\n",
    "\n",
    "Abistinencia:\n",
    "- Não sei"
   ]
  },
  {
   "cell_type": "code",
   "execution_count": null,
   "metadata": {},
   "outputs": [
    {
     "name": "stdout",
     "output_type": "stream",
     "text": [
      "Respostas corretas: 27\n",
      "frequencia de respostas corretas: 1.0\n",
      "\n",
      "Abstinencias: 0\n",
      "frequencia de abstinencias: 0.0\n",
      "\n",
      "Respostas erradas: 0\n",
      "frequencia de respostas erradas: 0.0\n"
     ]
    }
   ],
   "source": [
    "# Demo dia_noite\n",
    "\n",
    "total = len(demo)\n",
    "respostas_certas = count_right(demo, 'dia_noite', 'Dia')\n",
    "abstinencias = count_right(demo, 'dia_noite', 'Não sei')\n",
    "\n",
    "total_demo += respostas_certas\n",
    "abstinencias_demo += abstinencias\n",
    "print(f'Respostas corretas: {respostas_certas}')\n",
    "print(f'frequencia de respostas corretas: {respostas_certas/total}')\n",
    "print()\n",
    "print(f'Abstinencias: {abstinencias}')\n",
    "print(f'frequencia de abstinencias: {abstinencias/total}')\n",
    "print()\n",
    "print(f'Respostas erradas: {total - respostas_certas - abstinencias}')\n",
    "print(f'frequencia de respostas erradas: {(total - respostas_certas - abstinencias)/total}')"
   ]
  },
  {
   "cell_type": "code",
   "execution_count": null,
   "metadata": {},
   "outputs": [
    {
     "name": "stdout",
     "output_type": "stream",
     "text": [
      "Respostas corretas: 23\n",
      "frequencia de respostas corretas: 1.0\n",
      "\n",
      "Abstinencias: 0\n",
      "frequencia de abstinencias: 0.0\n",
      "\n",
      "Respostas erradas: 0\n",
      "frequencia de respostas erradas: 0.0\n"
     ]
    }
   ],
   "source": [
    "# video dia_noite\n",
    "\n",
    "total = len(video)\n",
    "respostas_certas = count_right(video, 'dia_noite', 'Dia')\n",
    "abstinencias = count_right(video, 'dia_noite', 'Não sei')\n",
    "\n",
    "total_video += respostas_certas\n",
    "abstinencias_video += abstinencias\n",
    "print(f'Respostas corretas: {respostas_certas}')\n",
    "print(f'frequencia de respostas corretas: {respostas_certas/total}')\n",
    "print()\n",
    "print(f'Abstinencias: {abstinencias}')\n",
    "print(f'frequencia de abstinencias: {abstinencias/total}')\n",
    "print()\n",
    "print(f'Respostas erradas: {total - respostas_certas - abstinencias}')\n",
    "print(f'frequencia de respostas erradas: {(total - respostas_certas - abstinencias)/total}')"
   ]
  },
  {
   "attachments": {},
   "cell_type": "markdown",
   "metadata": {},
   "source": [
    "# Perugunta 7\n",
    "## Havia sol no céu?\n",
    "\n",
    "Resposta:\n",
    "- Sim -> demo\n",
    "- Nao -> Video\n",
    "\n",
    "Abistinencia:\n",
    "- Não sei"
   ]
  },
  {
   "cell_type": "code",
   "execution_count": null,
   "metadata": {},
   "outputs": [
    {
     "name": "stdout",
     "output_type": "stream",
     "text": [
      "Respostas corretas: 8\n",
      "frequencia de respostas corretas: 0.2962962962962963\n",
      "\n",
      "Abstinencias: 15\n",
      "frequencia de abstinencias: 0.5555555555555556\n",
      "\n",
      "Respostas erradas: 4\n",
      "frequencia de respostas erradas: 0.14814814814814814\n"
     ]
    }
   ],
   "source": [
    "# demo sol\n",
    "\n",
    "total = len(demo)\n",
    "respostas_certas = count_right(demo, 'sol', 'Sim')\n",
    "abstinencias = count_right(demo, 'sol', 'Não sei')\n",
    "\n",
    "total_demo += respostas_certas\n",
    "abstinencias_demo += abstinencias\n",
    "print(f'Respostas corretas: {respostas_certas}')\n",
    "print(f'frequencia de respostas corretas: {respostas_certas/total}')\n",
    "print()\n",
    "print(f'Abstinencias: {abstinencias}')\n",
    "print(f'frequencia de abstinencias: {abstinencias/total}')\n",
    "print()\n",
    "print(f'Respostas erradas: {total - respostas_certas - abstinencias}')\n",
    "print(f'frequencia de respostas erradas: {(total - respostas_certas - abstinencias)/total}')"
   ]
  },
  {
   "cell_type": "code",
   "execution_count": null,
   "metadata": {},
   "outputs": [
    {
     "name": "stdout",
     "output_type": "stream",
     "text": [
      "Respostas corretas: 13\n",
      "frequencia de respostas corretas: 0.5652173913043478\n",
      "\n",
      "Abstinencias: 7\n",
      "frequencia de abstinencias: 0.30434782608695654\n",
      "\n",
      "Respostas erradas: 3\n",
      "frequencia de respostas erradas: 0.13043478260869565\n"
     ]
    }
   ],
   "source": [
    "# video sol\n",
    "\n",
    "total = len(video)\n",
    "respostas_certas = count_right(video, 'sol', 'Não')\n",
    "abstinencias = count_right(video, 'sol', 'Não sei')\n",
    "\n",
    "total_video += respostas_certas\n",
    "abstinencias_video += abstinencias\n",
    "print(f'Respostas corretas: {respostas_certas}')\n",
    "print(f'frequencia de respostas corretas: {respostas_certas/total}')\n",
    "print()\n",
    "print(f'Abstinencias: {abstinencias}')\n",
    "print(f'frequencia de abstinencias: {abstinencias/total}')\n",
    "print()\n",
    "print(f'Respostas erradas: {total - respostas_certas - abstinencias}')\n",
    "print(f'frequencia de respostas erradas: {(total - respostas_certas - abstinencias)/total}')"
   ]
  },
  {
   "attachments": {},
   "cell_type": "markdown",
   "metadata": {},
   "source": [
    "# Perugunta 8\n",
    "## Do que era feita a trilha?\n",
    "\n",
    "Resposta:\n",
    "- Terra\n",
    "\n",
    "Abistinencia:\n",
    "- Não sei"
   ]
  },
  {
   "cell_type": "code",
   "execution_count": null,
   "metadata": {},
   "outputs": [
    {
     "name": "stdout",
     "output_type": "stream",
     "text": [
      "Respostas corretas: 20\n",
      "frequencia de respostas corretas: 0.7407407407407407\n",
      "\n",
      "Abstinencias: 0\n",
      "frequencia de abstinencias: 0.0\n",
      "\n",
      "Respostas erradas: 7\n",
      "frequencia de respostas erradas: 0.25925925925925924\n"
     ]
    }
   ],
   "source": [
    "# demo trilha\n",
    "\n",
    "total = len(demo)\n",
    "respostas_certas = count_right(demo, 'trilha', 'Terra')\n",
    "abstinencias = count_right(demo, 'trilha', 'Não sei')\n",
    "\n",
    "total_demo += respostas_certas\n",
    "abstinencias_demo += abstinencias\n",
    "print(f'Respostas corretas: {respostas_certas}')\n",
    "print(f'frequencia de respostas corretas: {respostas_certas/total}')\n",
    "print()\n",
    "print(f'Abstinencias: {abstinencias}')\n",
    "print(f'frequencia de abstinencias: {abstinencias/total}')\n",
    "print()\n",
    "print(f'Respostas erradas: {total - respostas_certas - abstinencias}')\n",
    "print(f'frequencia de respostas erradas: {(total - respostas_certas - abstinencias)/total}')"
   ]
  },
  {
   "cell_type": "code",
   "execution_count": null,
   "metadata": {},
   "outputs": [
    {
     "name": "stdout",
     "output_type": "stream",
     "text": [
      "Respostas corretas: 19\n",
      "frequencia de respostas corretas: 0.8260869565217391\n",
      "\n",
      "Abstinencias: 0\n",
      "frequencia de abstinencias: 0.0\n",
      "\n",
      "Respostas erradas: 4\n",
      "frequencia de respostas erradas: 0.17391304347826086\n"
     ]
    }
   ],
   "source": [
    "# video trilha\n",
    "\n",
    "total = len(video)\n",
    "respostas_certas = count_right(video, 'trilha', 'Terra')\n",
    "abstinencias = count_right(video, 'trilha', 'Não sei')\n",
    "\n",
    "total_video += respostas_certas\n",
    "abstinencias_video += abstinencias\n",
    "print(f'Respostas corretas: {respostas_certas}')\n",
    "print(f'frequencia de respostas corretas: {respostas_certas/total}')\n",
    "print()\n",
    "print(f'Abstinencias: {abstinencias}')\n",
    "print(f'frequencia de abstinencias: {abstinencias/total}')\n",
    "print()\n",
    "print(f'Respostas erradas: {total - respostas_certas - abstinencias}')\n",
    "print(f'frequencia de respostas erradas: {(total - respostas_certas - abstinencias)/total}')"
   ]
  },
  {
   "attachments": {},
   "cell_type": "markdown",
   "metadata": {},
   "source": [
    "# Perugunta 9\n",
    "## Que tipo de árvore você mais viu?\n",
    "\n",
    "Resposta:\n",
    "- Pinheiro\n",
    "\n",
    "Abistinencia:\n",
    "- Não sei"
   ]
  },
  {
   "cell_type": "code",
   "execution_count": null,
   "metadata": {},
   "outputs": [
    {
     "name": "stdout",
     "output_type": "stream",
     "text": [
      "Respostas corretas: 9\n",
      "frequencia de respostas corretas: 0.3333333333333333\n",
      "\n",
      "Abstinencias: 10\n",
      "frequencia de abstinencias: 0.37037037037037035\n",
      "\n",
      "Respostas erradas: 8\n",
      "frequencia de respostas erradas: 0.2962962962962963\n"
     ]
    }
   ],
   "source": [
    "# demo arvore\n",
    "\n",
    "total = len(demo)\n",
    "respostas_certas = count_right(demo, 'arvore', 'Pinheiro')\n",
    "abstinencias = count_right(demo, 'arvore', 'Não sei')\n",
    "\n",
    "total_demo += respostas_certas\n",
    "abstinencias_demo += abstinencias\n",
    "print(f'Respostas corretas: {respostas_certas}')\n",
    "print(f'frequencia de respostas corretas: {respostas_certas/total}')\n",
    "print()\n",
    "print(f'Abstinencias: {abstinencias}')\n",
    "print(f'frequencia de abstinencias: {abstinencias/total}')\n",
    "print()\n",
    "print(f'Respostas erradas: {total - respostas_certas - abstinencias}')\n",
    "print(f'frequencia de respostas erradas: {(total - respostas_certas - abstinencias)/total}')"
   ]
  },
  {
   "cell_type": "code",
   "execution_count": null,
   "metadata": {},
   "outputs": [
    {
     "name": "stdout",
     "output_type": "stream",
     "text": [
      "Respostas corretas: 6\n",
      "frequencia de respostas corretas: 0.2608695652173913\n",
      "\n",
      "Abstinencias: 5\n",
      "frequencia de abstinencias: 0.21739130434782608\n",
      "\n",
      "Respostas erradas: 12\n",
      "frequencia de respostas erradas: 0.5217391304347826\n"
     ]
    }
   ],
   "source": [
    "# video arvore\n",
    "\n",
    "total = len(video)\n",
    "respostas_certas = count_right(video, 'arvore', 'Pinheiro')\n",
    "abstinencias = count_right(video, 'arvore', 'Não sei')\n",
    "\n",
    "total_video += respostas_certas\n",
    "abstinencias_video += abstinencias\n",
    "print(f'Respostas corretas: {respostas_certas}')\n",
    "print(f'frequencia de respostas corretas: {respostas_certas/total}')\n",
    "print()\n",
    "print(f'Abstinencias: {abstinencias}')\n",
    "print(f'frequencia de abstinencias: {abstinencias/total}')\n",
    "print()\n",
    "print(f'Respostas erradas: {total - respostas_certas - abstinencias}')\n",
    "print(f'frequencia de respostas erradas: {(total - respostas_certas - abstinencias)/total}')"
   ]
  },
  {
   "attachments": {},
   "cell_type": "markdown",
   "metadata": {},
   "source": [
    "# Perugunta 10\n",
    "## Qual a cor da casa?\n",
    "\n",
    "Resposta:\n",
    "- Vermelha\n",
    "\n",
    "Abistinencia:\n",
    "- Não sei"
   ]
  },
  {
   "cell_type": "code",
   "execution_count": null,
   "metadata": {},
   "outputs": [
    {
     "name": "stdout",
     "output_type": "stream",
     "text": [
      "Respostas corretas: 23\n",
      "frequencia de respostas corretas: 0.8518518518518519\n",
      "\n",
      "Abstinencias: 0\n",
      "frequencia de abstinencias: 0.0\n",
      "\n",
      "Respostas erradas: 4\n",
      "frequencia de respostas erradas: 0.14814814814814814\n"
     ]
    }
   ],
   "source": [
    "# demo casa\n",
    "\n",
    "total = len(demo)\n",
    "respostas_certas = count_right(demo, 'casa', 'Vermelha')\n",
    "abstinencias = count_right(demo, 'casa', 'Não sei')\n",
    "\n",
    "total_demo += respostas_certas\n",
    "abstinencias_demo += abstinencias\n",
    "print(f'Respostas corretas: {respostas_certas}')\n",
    "print(f'frequencia de respostas corretas: {respostas_certas/total}')\n",
    "print()\n",
    "print(f'Abstinencias: {abstinencias}')\n",
    "print(f'frequencia de abstinencias: {abstinencias/total}')\n",
    "print()\n",
    "print(f'Respostas erradas: {total - respostas_certas - abstinencias}')\n",
    "print(f'frequencia de respostas erradas: {(total - respostas_certas - abstinencias)/total}')"
   ]
  },
  {
   "cell_type": "code",
   "execution_count": null,
   "metadata": {},
   "outputs": [
    {
     "name": "stdout",
     "output_type": "stream",
     "text": [
      "Respostas corretas: 22\n",
      "frequencia de respostas corretas: 0.9565217391304348\n",
      "\n",
      "Abstinencias: 0\n",
      "frequencia de abstinencias: 0.0\n",
      "\n",
      "Respostas erradas: 1\n",
      "frequencia de respostas erradas: 0.043478260869565216\n"
     ]
    }
   ],
   "source": [
    "# video casa\n",
    "\n",
    "total = len(video)\n",
    "respostas_certas = count_right(video, 'casa', 'Vermelha')\n",
    "abstinencias = count_right(video, 'casa', 'Não sei')\n",
    "\n",
    "total_video += respostas_certas\n",
    "abstinencias_video += abstinencias\n",
    "print(f'Respostas corretas: {respostas_certas}')\n",
    "print(f'frequencia de respostas corretas: {respostas_certas/total}')\n",
    "print()\n",
    "print(f'Abstinencias: {abstinencias}')\n",
    "print(f'frequencia de abstinencias: {abstinencias/total}')\n",
    "print()\n",
    "print(f'Respostas erradas: {total - respostas_certas - abstinencias}')\n",
    "print(f'frequencia de respostas erradas: {(total - respostas_certas - abstinencias)/total}')"
   ]
  },
  {
   "attachments": {},
   "cell_type": "markdown",
   "metadata": {},
   "source": [
    "# total de respostas corretas"
   ]
  },
  {
   "cell_type": "code",
   "execution_count": null,
   "metadata": {},
   "outputs": [
    {
     "name": "stdout",
     "output_type": "stream",
     "text": [
      "respostas corretas demo: 172\n",
      "freq respostas corretas demo: 0.6370370370370371\n",
      "abstinencias demo: 46\n"
     ]
    }
   ],
   "source": [
    "print(f'respostas corretas demo: {total_demo}')\n",
    "print(f'freq respostas corretas demo: {total_demo/(len(demo)*10)}')\n",
    "print(f'abstinencias demo: {abstinencias_demo}')"
   ]
  },
  {
   "cell_type": "code",
   "execution_count": null,
   "metadata": {},
   "outputs": [
    {
     "name": "stdout",
     "output_type": "stream",
     "text": [
      "respostas corretas video: 162\n",
      "freq respostas corretas video: 0.7043478260869566\n",
      "abstinencias video: 19\n"
     ]
    }
   ],
   "source": [
    "print(f'respostas corretas video: {total_video}')\n",
    "print(f'freq respostas corretas video: {total_video/(len(video)*10)}')\n",
    "print(f'abstinencias video: {abstinencias_video}')"
   ]
  },
  {
   "cell_type": "code",
   "execution_count": null,
   "metadata": {},
   "outputs": [],
   "source": []
  }
 ],
 "metadata": {
  "kernelspec": {
   "display_name": "Python 3",
   "language": "python",
   "name": "python3"
  },
  "language_info": {
   "codemirror_mode": {
    "name": "ipython",
    "version": 3
   },
   "file_extension": ".py",
   "mimetype": "text/x-python",
   "name": "python",
   "nbconvert_exporter": "python",
   "pygments_lexer": "ipython3",
   "version": "3.11.3"
  },
  "orig_nbformat": 4
 },
 "nbformat": 4,
 "nbformat_minor": 2
}
